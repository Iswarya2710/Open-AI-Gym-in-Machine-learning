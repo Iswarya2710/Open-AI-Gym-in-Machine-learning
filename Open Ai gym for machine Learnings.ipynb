{
 "cells": [
  {
   "cell_type": "code",
   "execution_count": 3,
   "id": "e292f2c2",
   "metadata": {},
   "outputs": [
    {
     "name": "stdout",
     "output_type": "stream",
     "text": [
      "Episode 1:TotalReward=[ 0.00780692  0.3890799   0.03384563 -0.5917675 ]\n",
      "Episode 2:TotalReward=[ 0.03642274  0.82600045  0.00877144 -1.207119  ]\n",
      "Episode 3:TotalReward=[ 0.08075835  1.1753881   0.03552238 -1.7747128 ]\n",
      "Episode 4:TotalReward=[ 0.12731507  1.6050522  -0.00399861 -2.375301  ]\n",
      "Episode 5:TotalReward=[ 0.09721003  2.0370011  -0.05056436 -2.994992  ]\n"
     ]
    }
   ],
   "source": [
    "import gym\n",
    "import warnings\n",
    "warnings.filterwarnings(\"ignore\")\n",
    "\n",
    "env=gym.make('CartPole-v1')\n",
    "\n",
    "observation=env.reset()\n",
    "\n",
    "num_episodes=5\n",
    "total_rewards=0\n",
    "for episode in range(num_episodes):\n",
    "    observation=env.reset()\n",
    "    \n",
    "    done=False\n",
    "    \n",
    "    while not done:\n",
    "        env.render()\n",
    "        \n",
    "        action=env.action_space.sample()\n",
    "        next_observation=env.step(action)\n",
    "        reward=env.step(action)\n",
    "        reward = reward[0] if isinstance(reward, tuple) else reward\n",
    "        done=env.step(action)\n",
    "        info=env.step(action)\n",
    "        \n",
    "        total_rewards +=reward\n",
    "        \n",
    "        observation=next_observation\n",
    "    print(f\"Episode {episode+1}:TotalReward={total_rewards}\")\n",
    "env.close()"
   ]
  },
  {
   "cell_type": "code",
   "execution_count": null,
   "id": "c817af6a",
   "metadata": {},
   "outputs": [],
   "source": []
  }
 ],
 "metadata": {
  "kernelspec": {
   "display_name": "Python 3 (ipykernel)",
   "language": "python",
   "name": "python3"
  },
  "language_info": {
   "codemirror_mode": {
    "name": "ipython",
    "version": 3
   },
   "file_extension": ".py",
   "mimetype": "text/x-python",
   "name": "python",
   "nbconvert_exporter": "python",
   "pygments_lexer": "ipython3",
   "version": "3.10.9"
  }
 },
 "nbformat": 4,
 "nbformat_minor": 5
}
